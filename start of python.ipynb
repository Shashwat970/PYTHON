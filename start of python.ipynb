{
 "cells": [
  {
   "cell_type": "code",
   "execution_count": 2,
   "id": "cb26145c",
   "metadata": {},
   "outputs": [
    {
     "name": "stdout",
     "output_type": "stream",
     "text": [
      "True\n"
     ]
    }
   ],
   "source": [
    "a=(37<39)\n",
    "print(a)"
   ]
  },
  {
   "cell_type": "code",
   "execution_count": 3,
   "id": "84df6f35",
   "metadata": {},
   "outputs": [
    {
     "name": "stdout",
     "output_type": "stream",
     "text": [
      "2.0\n"
     ]
    }
   ],
   "source": [
    "x=2+5J\n",
    "print(x.real)"
   ]
  },
  {
   "cell_type": "code",
   "execution_count": 4,
   "id": "ff268bb1",
   "metadata": {},
   "outputs": [
    {
     "name": "stdout",
     "output_type": "stream",
     "text": [
      "5.0\n"
     ]
    }
   ],
   "source": [
    "x=2+5J\n",
    "print(x.imag)"
   ]
  },
  {
   "cell_type": "code",
   "execution_count": 5,
   "id": "43a91670",
   "metadata": {},
   "outputs": [
    {
     "name": "stdout",
     "output_type": "stream",
     "text": [
      "2.0 5.0\n"
     ]
    }
   ],
   "source": [
    "x=2+5J\n",
    "print(x.real,x.imag)"
   ]
  },
  {
   "cell_type": "code",
   "execution_count": null,
   "id": "fdd43db0",
   "metadata": {},
   "outputs": [],
   "source": [
    "import datetime\n",
    "x=datetime.datetime.now()\n",
    "print(\"current time:- \",x)"
   ]
  },
  {
   "cell_type": "code",
   "execution_count": 10,
   "id": "af92cb40",
   "metadata": {},
   "outputs": [
    {
     "ename": "AttributeError",
     "evalue": "'str' object has no attribute 'now'",
     "output_type": "error",
     "traceback": [
      "\u001b[1;31m---------------------------------------------------------------------------\u001b[0m",
      "\u001b[1;31mAttributeError\u001b[0m                            Traceback (most recent call last)",
      "Cell \u001b[1;32mIn[10], line 2\u001b[0m\n\u001b[0;32m      1\u001b[0m time\u001b[38;5;241m=\u001b[39m(\u001b[38;5;124m\"\u001b[39m\u001b[38;5;124m%\u001b[39m\u001b[38;5;124my - \u001b[39m\u001b[38;5;124m%\u001b[39m\u001b[38;5;124mm - \u001b[39m\u001b[38;5;132;01m%d\u001b[39;00m\u001b[38;5;124m - \u001b[39m\u001b[38;5;124m%\u001b[39m\u001b[38;5;124mH - \u001b[39m\u001b[38;5;124m%\u001b[39m\u001b[38;5;124mm - \u001b[39m\u001b[38;5;124m%\u001b[39m\u001b[38;5;124mS\u001b[39m\u001b[38;5;124m\"\u001b[39m)\n\u001b[1;32m----> 2\u001b[0m \u001b[38;5;28mprint\u001b[39m(time\u001b[38;5;241m.\u001b[39mnow())\n",
      "\u001b[1;31mAttributeError\u001b[0m: 'str' object has no attribute 'now'"
     ]
    }
   ],
   "source": [
    "time=(\"%y - %m - %d - %H - %m - %S\")\n",
    "print(time.now())"
   ]
  },
  {
   "cell_type": "code",
   "execution_count": 14,
   "id": "5ba45268",
   "metadata": {},
   "outputs": [
    {
     "name": "stdout",
     "output_type": "stream",
     "text": [
      "8200.0\n"
     ]
    }
   ],
   "source": [
    "a=8.2e3\n",
    "print(a)"
   ]
  },
  {
   "cell_type": "code",
   "execution_count": 16,
   "id": "d4f914c6",
   "metadata": {},
   "outputs": [
    {
     "name": "stdout",
     "output_type": "stream",
     "text": [
      "Shashwat\n"
     ]
    }
   ],
   "source": [
    "a=str(\"Shashwat\")\n",
    "print(a)"
   ]
  },
  {
   "cell_type": "code",
   "execution_count": 20,
   "id": "1e8ee497",
   "metadata": {},
   "outputs": [
    {
     "name": "stdout",
     "output_type": "stream",
     "text": [
      "enter the time in minutes: 890\n",
      "hours are:  14.833333333333334\n",
      "minutes are:  50\n"
     ]
    }
   ],
   "source": [
    "t=int(input(\"enter the time in minutes: \"))\n",
    "hours=t/60\n",
    "mins=t%60\n",
    "print(\"hours are: \",hours)\n",
    "print(\"minutes are: \",mins)"
   ]
  },
  {
   "cell_type": "code",
   "execution_count": 21,
   "id": "9af9c3be",
   "metadata": {},
   "outputs": [
    {
     "name": "stdout",
     "output_type": "stream",
     "text": [
      "enter the value of principal: 12000\n",
      "enter the annual rate of interest: 2\n",
      "enter the time period in years: 3\n",
      "simple interest is Rs 720.0\n",
      "amount=  12720.0\n"
     ]
    }
   ],
   "source": [
    "p=int(input(\"enter the value of principal: \"))\n",
    "r=int(input(\"enter the annual rate of interest: \"))\n",
    "t=int(input(\"enter the time period in years: \"))\n",
    "si=p*r*t/100\n",
    "amount=p+si\n",
    "print(\"simple interest is Rs\",si)\n",
    "print(\"amount= \",amount)"
   ]
  },
  {
   "cell_type": "code",
   "execution_count": 20,
   "id": "fbb4a792",
   "metadata": {},
   "outputs": [
    {
     "name": "stdout",
     "output_type": "stream",
     "text": [
      "('shashwat', 'why_its_always_me', 'shake')\n"
     ]
    }
   ],
   "source": [
    "this_is_tuple=(\"shashwat\",\"why_its_always_me\",\"shake\")\n",
    "print(this_is_tuple)\n",
    "#tuple is not ordered,changeable after writing the code"
   ]
  },
  {
   "cell_type": "code",
   "execution_count": 65,
   "id": "c230600f",
   "metadata": {},
   "outputs": [
    {
     "name": "stdout",
     "output_type": "stream",
     "text": [
      "['Shashwat', 'prince', 'aditi']\n",
      "['Shashwat', 'prince']\n",
      "now prince has been removed from this_is_list \n",
      "['Shashwat', 'aditi']\n"
     ]
    }
   ],
   "source": [
    "this_is_list=[\"Shashwat\",\"prince\",\"aditi\"]\n",
    "print(this_is_list)\n",
    "print(this_is_list[0:2])\n",
    "this_is_list.remove(\"prince\")\n",
    "print(\"now prince has been removed from this_is_list \")\n",
    "print(this_is_list)\n",
    "#List is ordered,changeable after writing the code"
   ]
  },
  {
   "cell_type": "code",
   "execution_count": 31,
   "id": "f895f7e4",
   "metadata": {},
   "outputs": [
    {
     "name": "stdout",
     "output_type": "stream",
     "text": [
      "{'Brand': 'Ford', 'Model': 'Mustang', 'year': '1900'}\n"
     ]
    }
   ],
   "source": [
    "this_is_dictionary={\"Brand\":\"Ford\",\"Model\":\"Mustang\",\"year\":\"1900\"}\n",
    "print(this_is_dictionary)\n",
    "#Dictionary is unordered,changeable and indexed "
   ]
  },
  {
   "cell_type": "code",
   "execution_count": 38,
   "id": "ece4f013",
   "metadata": {},
   "outputs": [
    {
     "name": "stdout",
     "output_type": "stream",
     "text": [
      "finished of the program\n"
     ]
    }
   ],
   "source": [
    "#if control statement\n",
    "a=2\n",
    "if(a>6):\n",
    "    print(\"a is greater than 6 \")\n",
    "print(\"finished of the program\")"
   ]
  },
  {
   "cell_type": "code",
   "execution_count": 39,
   "id": "6890a547",
   "metadata": {},
   "outputs": [
    {
     "name": "stdout",
     "output_type": "stream",
     "text": [
      "a is smaller than 6 \n",
      "finished of the program\n"
     ]
    }
   ],
   "source": [
    "#if-else control statement\n",
    "a=2\n",
    "if(a>6):\n",
    "    print(\"a is greater than 6 \")\n",
    "else:\n",
    "    print(\"a is smaller than 6 \")\n",
    "print(\"finished of the program\")"
   ]
  },
  {
   "cell_type": "code",
   "execution_count": 40,
   "id": "e8b4d009",
   "metadata": {},
   "outputs": [
    {
     "name": "stdout",
     "output_type": "stream",
     "text": [
      "a has integer value 2 \n",
      "finished of the program\n"
     ]
    }
   ],
   "source": [
    "#nested if-else control statement\n",
    "a=2\n",
    "if(a>6):\n",
    "    print(\"a is greater than 6 \")\n",
    "if(a>3):\n",
    "    print(\"a is smaller than 6 but greater than 3 \")\n",
    "if(a==2):\n",
    "    print(\"a has integer value 2 \")\n",
    "else:\n",
    "    print(\"we don't know value of a\")\n",
    "print(\"finished of the program\")"
   ]
  },
  {
   "cell_type": "code",
   "execution_count": 11,
   "id": "6c35d548",
   "metadata": {},
   "outputs": [
    {
     "name": "stdout",
     "output_type": "stream",
     "text": [
      "1\n",
      "2\n",
      "3\n",
      "4\n",
      "5\n",
      "6\n",
      "7\n",
      "8\n",
      "9\n",
      "10\n",
      "11\n",
      "12\n",
      "13\n",
      "14\n",
      "15\n",
      "2\n",
      "4\n",
      "6\n",
      "8\n",
      "10\n",
      "12\n",
      "14\n",
      "16\n",
      "18\n",
      "20\n",
      "22\n",
      "24\n",
      "26\n",
      "28\n",
      "30\n"
     ]
    }
   ],
   "source": [
    "#for loop\n",
    "for i in range(1,3):\n",
    "    for j in range(1,16):\n",
    "        k=i*j\n",
    "        #now everything should print in next line right so we will do this\n",
    "        print(k,end='')\n",
    "        #it will print k and everytime the k changes, it will print changed k in next line. \n",
    "        print()\n",
    "#it will print table or should i say it will multiply 1, 15 times and print it and the same same goes for 2.\n",
    "#3 and 16 will be ignored throughout this process "
   ]
  },
  {
   "cell_type": "code",
   "execution_count": 5,
   "id": "ed2c4b73",
   "metadata": {},
   "outputs": [
    {
     "name": "stdout",
     "output_type": "stream",
     "text": [
      "2\n",
      "4\n",
      "6\n"
     ]
    }
   ],
   "source": [
    "#for loop without breaks is like a ferrari where mechanic has forgot to install emergency breaks\n",
    "i=2\n",
    "while i<8:\n",
    "    print(i)\n",
    "    i+=2"
   ]
  },
  {
   "cell_type": "code",
   "execution_count": 10,
   "id": "08a997c6",
   "metadata": {},
   "outputs": [
    {
     "name": "stdout",
     "output_type": "stream",
     "text": [
      "2\n",
      "4\n",
      "6\n",
      "8\n",
      "10\n",
      "12\n",
      "14\n",
      "16\n",
      "18\n",
      "20\n",
      "22\n",
      "24\n"
     ]
    }
   ],
   "source": [
    "#for loop with some breaks\n",
    "i=2\n",
    "while i<25:\n",
    "    print(i)\n",
    "    if i==3:\n",
    "        break\n",
    "    i+=2"
   ]
  },
  {
   "cell_type": "code",
   "execution_count": 9,
   "id": "bb7c9585",
   "metadata": {},
   "outputs": [
    {
     "name": "stdout",
     "output_type": "stream",
     "text": [
      "3\n",
      "5\n",
      "9\n",
      "negative indexing\n",
      "9\n",
      "5\n",
      "3\n",
      "slicing of list\n",
      "[3, 5, 9]\n",
      "[5, 9]\n",
      "[]\n",
      "[3, 5, 9]\n",
      "printing the list\n",
      "[3, 5, 9]\n",
      "reversing the list\n",
      "None\n",
      "couldn't reverse\n"
     ]
    }
   ],
   "source": [
    "list=[3,5,9]\n",
    "print(list[0])\n",
    "print(list[1])\n",
    "print(list[2])\n",
    "print(\"negative indexing\")\n",
    "print(list[-1])\n",
    "print(list[-2])\n",
    "print(list[-3])\n",
    "print(\"slicing of list\")\n",
    "print(list[0:3])\n",
    "print(list[1:3])\n",
    "print(list[3:])\n",
    "print(list[:])\n",
    "print(\"printing the list\")\n",
    "print(list)\n",
    "print(\"reversing the list\")\n",
    "try:\n",
    "    (print(list.reverse()))\n",
    "finally:\n",
    "    (print(\"couldn't reverse\"))\n",
    "#as you can see, I couldn't reverse the list. i will google it later"
   ]
  },
  {
   "cell_type": "code",
   "execution_count": null,
   "id": "fdb05337",
   "metadata": {},
   "outputs": [],
   "source": []
  }
 ],
 "metadata": {
  "kernelspec": {
   "display_name": "Python 3 (ipykernel)",
   "language": "python",
   "name": "python3"
  },
  "language_info": {
   "codemirror_mode": {
    "name": "ipython",
    "version": 3
   },
   "file_extension": ".py",
   "mimetype": "text/x-python",
   "name": "python",
   "nbconvert_exporter": "python",
   "pygments_lexer": "ipython3",
   "version": "3.11.5"
  }
 },
 "nbformat": 4,
 "nbformat_minor": 5
}
