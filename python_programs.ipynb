{
 "cells": [
  {
   "cell_type": "code",
   "execution_count": 4,
   "id": "ed624d47",
   "metadata": {},
   "outputs": [
    {
     "name": "stdout",
     "output_type": "stream",
     "text": [
      "Alice, that was a great trick!\n",
      "David, that was a great trick!\n",
      "I can't wait to see your next trick, David.\n",
      "\n",
      "['alice', 'david', 'Shashwat']\n"
     ]
    }
   ],
   "source": [
    "magicians = ['alice', 'david']\n",
    "for magician in magicians:\n",
    "    print(magician.title() + \", that was a great trick!\")\n",
    "print(\"I can't wait to see your next trick, \" + magician.title() + \".\\n\")\n",
    "magicians.append('Shashwat')\n",
    "print(magicians)"
   ]
  },
  {
   "cell_type": "code",
   "execution_count": 2,
   "id": "d909622f",
   "metadata": {},
   "outputs": [
    {
     "name": "stdout",
     "output_type": "stream",
     "text": [
      "['honda', 'yamaha', 'suzuki']\n"
     ]
    }
   ],
   "source": [
    "motorcycles = []\n",
    "motorcycles.append('honda')\n",
    "motorcycles.append('yamaha')\n",
    "motorcycles.append('suzuki')\n",
    "print(motorcycles)"
   ]
  },
  {
   "cell_type": "code",
   "execution_count": 9,
   "id": "d687317e",
   "metadata": {},
   "outputs": [
    {
     "name": "stdout",
     "output_type": "stream",
     "text": [
      "['honda', 'yamaha', 'ducati', 'suzuki']\n"
     ]
    }
   ],
   "source": [
    "motorcycles = ['honda', 'yamaha', 'suzuki']\n",
    "motorcycles.insert(2, 'ducati')\n",
    "#insert the element at index 2\n",
    "print(motorcycles)"
   ]
  },
  {
   "cell_type": "code",
   "execution_count": 10,
   "id": "525e4e03",
   "metadata": {},
   "outputs": [
    {
     "name": "stdout",
     "output_type": "stream",
     "text": [
      "['yamaha', 'ducati', 'suzuki']\n"
     ]
    }
   ],
   "source": [
    "del motorcycles[0]\n",
    "#removes the element at index 0\n",
    "print(motorcycles)"
   ]
  },
  {
   "cell_type": "code",
   "execution_count": 11,
   "id": "f173eb03",
   "metadata": {},
   "outputs": [
    {
     "name": "stdout",
     "output_type": "stream",
     "text": [
      "['honda', 'yamaha', 'suzuki']\n",
      "['honda', 'yamaha']\n",
      "suzuki\n"
     ]
    }
   ],
   "source": [
    "motorcycles = ['honda', 'yamaha', 'suzuki']\n",
    "print(motorcycles)\n",
    "popped_motorcycle = motorcycles.pop()\n",
    "#pop method removes the last element\n",
    "print(motorcycles)\n",
    "print(popped_motorcycle)"
   ]
  },
  {
   "cell_type": "code",
   "execution_count": 12,
   "id": "14974079",
   "metadata": {},
   "outputs": [
    {
     "name": "stdout",
     "output_type": "stream",
     "text": [
      "The last motorcycle I owned was a Suzuki.\n"
     ]
    }
   ],
   "source": [
    "motorcycles = ['honda', 'yamaha', 'suzuki']\n",
    "last_owned = motorcycles.pop()\n",
    "print(\"The last motorcycle I owned was a \" + last_owned.title() + \".\")"
   ]
  },
  {
   "cell_type": "code",
   "execution_count": 13,
   "id": "e287fefb",
   "metadata": {},
   "outputs": [
    {
     "name": "stdout",
     "output_type": "stream",
     "text": [
      "['honda', 'yamaha', 'suzuki', 'ducati']\n",
      "['honda', 'yamaha', 'suzuki']\n"
     ]
    }
   ],
   "source": [
    "motorcycles = ['honda', 'yamaha', 'suzuki', 'ducati']\n",
    "print(motorcycles)\n",
    "motorcycles.remove('ducati')\n",
    "print(motorcycles)"
   ]
  },
  {
   "cell_type": "code",
   "execution_count": 14,
   "id": "648d281f",
   "metadata": {},
   "outputs": [
    {
     "name": "stdout",
     "output_type": "stream",
     "text": [
      "['audi', 'bmw', 'subaru', 'toyota']\n"
     ]
    }
   ],
   "source": [
    "cars = ['bmw', 'audi', 'toyota', 'subaru']\n",
    "cars.sort()\n",
    "print(cars)"
   ]
  },
  {
   "cell_type": "code",
   "execution_count": 15,
   "id": "029e63cd",
   "metadata": {},
   "outputs": [
    {
     "name": "stdout",
     "output_type": "stream",
     "text": [
      "['toyota', 'subaru', 'bmw', 'audi']\n"
     ]
    }
   ],
   "source": [
    "cars = ['bmw', 'audi', 'toyota', 'subaru']\n",
    "cars.sort(reverse=True)\n",
    "print(cars)"
   ]
  },
  {
   "cell_type": "code",
   "execution_count": 16,
   "id": "3f275369",
   "metadata": {},
   "outputs": [
    {
     "name": "stdout",
     "output_type": "stream",
     "text": [
      "Here is the original list:\n",
      "['toyota', 'subaru', 'bmw', 'audi']\n",
      "\n",
      " Here is the sorted list:\n",
      "['audi', 'bmw', 'subaru', 'toyota']\n",
      "\n",
      " Here is the original list again:\n",
      "['toyota', 'subaru', 'bmw', 'audi']\n"
     ]
    }
   ],
   "source": [
    "print(\"Here is the original list:\")\n",
    "print(cars)\n",
    "print(\"\\n Here is the sorted list:\")\n",
    "print(sorted(cars))\n",
    "print(\"\\n Here is the original list again:\")\n",
    "print(cars)"
   ]
  },
  {
   "cell_type": "code",
   "execution_count": 17,
   "id": "e507615f",
   "metadata": {},
   "outputs": [
    {
     "data": {
      "text/plain": [
       "4"
      ]
     },
     "execution_count": 17,
     "metadata": {},
     "output_type": "execute_result"
    }
   ],
   "source": [
    "cars = ['bmw', 'audi', 'toyota', 'subaru']\n",
    "len(cars)"
   ]
  },
  {
   "cell_type": "code",
   "execution_count": 20,
   "id": "2655370f",
   "metadata": {},
   "outputs": [
    {
     "name": "stdout",
     "output_type": "stream",
     "text": [
      "Alice, that was a great trick!\n",
      "David, that was a great trick!\n",
      "Carolina, that was a great trick!\n",
      "carolina\n"
     ]
    }
   ],
   "source": [
    "magicians = ['alice', 'david', 'carolina']\n",
    "for magician in magicians:\n",
    "    print(magician.title() + \", that was a great trick!\")\n",
    "print(magician)"
   ]
  },
  {
   "cell_type": "code",
   "execution_count": 24,
   "id": "f31173c3",
   "metadata": {},
   "outputs": [
    {
     "name": "stdout",
     "output_type": "stream",
     "text": [
      "[1, 2, 3, 4, 5]\n"
     ]
    }
   ],
   "source": [
    "numbers = list(range(1,6))\n",
    "print(numbers)"
   ]
  },
  {
   "cell_type": "code",
   "execution_count": 25,
   "id": "39c19bda",
   "metadata": {},
   "outputs": [
    {
     "name": "stdout",
     "output_type": "stream",
     "text": [
      "[2, 4, 6, 8, 10]\n"
     ]
    }
   ],
   "source": [
    "even_numbers = list(range(2,11,2))\n",
    "print(even_numbers)"
   ]
  },
  {
   "cell_type": "code",
   "execution_count": 28,
   "id": "a28d0d84",
   "metadata": {},
   "outputs": [
    {
     "name": "stdout",
     "output_type": "stream",
     "text": [
      "[1, 4, 9, 16, 25, 36, 49, 64, 81, 100]\n"
     ]
    }
   ],
   "source": [
    "squares = []\n",
    "for value in range(1,11):\n",
    "    square = value**2\n",
    "    squares.append(square)\n",
    "print(squares)"
   ]
  },
  {
   "cell_type": "code",
   "execution_count": 29,
   "id": "86743456",
   "metadata": {},
   "outputs": [
    {
     "name": "stdout",
     "output_type": "stream",
     "text": [
      "My favorite foods are:\n",
      "['pizza', 'falafel', 'carrot cake']\n",
      "\n",
      "My friend's favorite foods are:\n",
      "['pizza', 'falafel', 'carrot cake']\n"
     ]
    }
   ],
   "source": [
    "my_foods = ['pizza', 'falafel', 'carrot cake']\n",
    "friend_foods = my_foods[:]\n",
    "print(\"My favorite foods are:\")\n",
    "print(my_foods)\n",
    "print(\"\\nMy friend's favorite foods are:\")\n",
    "print(friend_foods)"
   ]
  },
  {
   "cell_type": "code",
   "execution_count": 30,
   "id": "71dfd923",
   "metadata": {},
   "outputs": [
    {
     "name": "stdout",
     "output_type": "stream",
     "text": [
      "Original dimensions:\n",
      "200\n",
      "50\n",
      "\n",
      "Modified dimensions:\n",
      "400\n",
      "100\n"
     ]
    }
   ],
   "source": [
    "dimensions = (200, 50)\n",
    "print(\"Original dimensions:\")\n",
    "for dimension in dimensions:\n",
    "    print(dimension)\n",
    "dimensions = (400, 100)\n",
    "print(\"\\nModified dimensions:\")\n",
    "for dimension in dimensions:\n",
    "    print(dimension)"
   ]
  },
  {
   "cell_type": "code",
   "execution_count": 32,
   "id": "c1703e17",
   "metadata": {},
   "outputs": [
    {
     "name": "stdout",
     "output_type": "stream",
     "text": [
      "Audi\n",
      "BMW\n",
      "Subaru\n",
      "Toyota\n"
     ]
    }
   ],
   "source": [
    "cars = ['audi', 'bmw', 'subaru', 'toyota']\n",
    "for car in cars:\n",
    "    if car == 'bmw':\n",
    "        print(car.upper())\n",
    "    else:\n",
    "        print(car.title())"
   ]
  },
  {
   "cell_type": "code",
   "execution_count": 33,
   "id": "ce496845",
   "metadata": {},
   "outputs": [
    {
     "data": {
      "text/plain": [
       "True"
      ]
     },
     "execution_count": 33,
     "metadata": {},
     "output_type": "execute_result"
    }
   ],
   "source": [
    "car = 'bmw'\n",
    "car == 'bmw'"
   ]
  },
  {
   "cell_type": "code",
   "execution_count": 34,
   "id": "6484c22e",
   "metadata": {},
   "outputs": [
    {
     "data": {
      "text/plain": [
       "False"
      ]
     },
     "execution_count": 34,
     "metadata": {},
     "output_type": "execute_result"
    }
   ],
   "source": [
    "car = 'bmw'\n",
    "car == 'Toyota'"
   ]
  },
  {
   "cell_type": "code",
   "execution_count": 35,
   "id": "44197f2b",
   "metadata": {},
   "outputs": [
    {
     "name": "stdout",
     "output_type": "stream",
     "text": [
      "Hold the anchovies!\n"
     ]
    }
   ],
   "source": [
    "requested_topping = 'mushrooms'\n",
    "# == means equal and if != it means not equal\n",
    "if requested_topping != 'anchovies':\n",
    "    print(\"Hold the anchovies!\")"
   ]
  },
  {
   "cell_type": "code",
   "execution_count": 37,
   "id": "b3fed48d",
   "metadata": {},
   "outputs": [
    {
     "data": {
      "text/plain": [
       "True"
      ]
     },
     "execution_count": 37,
     "metadata": {},
     "output_type": "execute_result"
    }
   ],
   "source": [
    "requested_toppings = ['mushrooms', 'onions', 'pineapple']\n",
    "'mushrooms' in requested_toppings"
   ]
  },
  {
   "cell_type": "code",
   "execution_count": 39,
   "id": "b7d22595",
   "metadata": {},
   "outputs": [
    {
     "data": {
      "text/plain": [
       "False"
      ]
     },
     "execution_count": 39,
     "metadata": {},
     "output_type": "execute_result"
    }
   ],
   "source": [
    "'cookies' in requested_toppings"
   ]
  },
  {
   "cell_type": "code",
   "execution_count": 40,
   "id": "b41951e9",
   "metadata": {},
   "outputs": [
    {
     "name": "stdout",
     "output_type": "stream",
     "text": [
      "Marie, you can post a response if you wish.\n"
     ]
    }
   ],
   "source": [
    "banned_users = ['andrew', 'carolina', 'david']\n",
    "user = 'marie'\n",
    "if user not in banned_users:\n",
    "    print(user.title() + \", you can post a response if you wish.\")"
   ]
  },
  {
   "cell_type": "code",
   "execution_count": 2,
   "id": "b7dc198c",
   "metadata": {},
   "outputs": [
    {
     "name": "stdout",
     "output_type": "stream",
     "text": [
      "min number of the array  0\n",
      "max number in the array  9\n",
      "sum of the array 45\n"
     ]
    }
   ],
   "source": [
    "digits = [1, 2, 3, 4, 5, 6, 7, 8, 9, 0]\n",
    "print(\"min number of the array \",min(digits))\n",
    "print(\"max number in the array \",max(digits))\n",
    "print(\"sum of the array\",sum(digits))"
   ]
  },
  {
   "cell_type": "code",
   "execution_count": 3,
   "id": "b91fb99c",
   "metadata": {},
   "outputs": [
    {
     "name": "stdout",
     "output_type": "stream",
     "text": [
      "[1, 4, 9, 16, 25, 36, 49, 64, 81, 100]\n"
     ]
    }
   ],
   "source": [
    "squares = [value**2 for value in range(1,11)]\n",
    "print(squares)"
   ]
  },
  {
   "cell_type": "code",
   "execution_count": 13,
   "id": "952ad096",
   "metadata": {},
   "outputs": [
    {
     "name": "stdout",
     "output_type": "stream",
     "text": [
      "want the account or not : \n",
      "Noneno\n",
      "ok i will not give it to you\n"
     ]
    }
   ],
   "source": [
    "a=str(input(print(\"want the account or not : \")))\n",
    "if a == \"yes\":\n",
    "    print(\"let me think about it\")\n",
    "else:\n",
    "    print(\"ok i will not give it to you\")"
   ]
  },
  {
   "cell_type": "code",
   "execution_count": 15,
   "id": "377f116d",
   "metadata": {},
   "outputs": [
    {
     "name": "stdout",
     "output_type": "stream",
     "text": [
      "what is your age: \n",
      "None16\n",
      "Your admission cost is $5.\n"
     ]
    }
   ],
   "source": [
    "age = int(input(print(\"what is your age: \")))\n",
    "if age < 4:\n",
    "    print(\"Your admission cost is $0.\")\n",
    "elif age < 18:\n",
    "    print(\"Your admission cost is $5.\")\n",
    "else:\n",
    "    print(\"Your admission cost is $10.\")"
   ]
  },
  {
   "cell_type": "code",
   "execution_count": 18,
   "id": "e3d501d0",
   "metadata": {},
   "outputs": [
    {
     "name": "stdout",
     "output_type": "stream",
     "text": [
      "what is your age: \n",
      "None14\n",
      "Your admission cost is $5.\n"
     ]
    }
   ],
   "source": [
    "age = int(input(print(\"what is your age: \")))\n",
    "if age < 4:\n",
    "    price = 0\n",
    "elif age < 18:\n",
    "    price = 5\n",
    "else:\n",
    "    price = 10\n",
    "print(\"Your admission cost is $\" + str(price) + \".\")"
   ]
  },
  {
   "cell_type": "code",
   "execution_count": 2,
   "id": "5c8a9b43",
   "metadata": {},
   "outputs": [
    {
     "name": "stdout",
     "output_type": "stream",
     "text": [
      "AttributeError Exception Raised.\n"
     ]
    }
   ],
   "source": [
    "try:\n",
    "    a=10\n",
    "    b=a.upper()\n",
    "    print(b)\n",
    "except AttributeError:\n",
    "    print(\"AttributeError Exception Raised.\")"
   ]
  },
  {
   "cell_type": "code",
   "execution_count": 3,
   "id": "ed4cb795",
   "metadata": {},
   "outputs": [
    {
     "data": {
      "text/plain": [
       "{'a': 'A',\n",
       " 'b': 'B',\n",
       " 'c': 'C',\n",
       " 'd': 'D',\n",
       " 'e': 'E',\n",
       " 'f': 'F',\n",
       " 'g': 'G',\n",
       " 'h': 'H',\n",
       " 'i': 'I',\n",
       " 'j': 'J',\n",
       " 'k': 'K',\n",
       " 'l': 'L',\n",
       " 'm': 'M',\n",
       " 'n': 'N',\n",
       " 'o': 'O',\n",
       " 'p': 'P',\n",
       " 'q': 'Q',\n",
       " 'r': 'R',\n",
       " 's': 'S',\n",
       " 't': 'T',\n",
       " 'u': 'U',\n",
       " 'v': 'V',\n",
       " 'w': 'W',\n",
       " 'x': 'X',\n",
       " 'y': 'Y',\n",
       " 'z': 'Z'}"
      ]
     },
     "execution_count": 3,
     "metadata": {},
     "output_type": "execute_result"
    }
   ],
   "source": [
    "str1 =\"abcdefghijklmnopqrstuvwxyz\"\n",
    "mydict3={i:i.upper() for i in str1}\n",
    "# Lower to Upper Case\n",
    "mydict3"
   ]
  },
  {
   "cell_type": "code",
   "execution_count": 7,
   "id": "96b31410",
   "metadata": {},
   "outputs": [
    {
     "name": "stdout",
     "output_type": "stream",
     "text": [
      "['this', 'is', 'a', 'string', 'experiment']\n"
     ]
    }
   ],
   "source": [
    "string_ex=\"this is a string experiment \"\n",
    "splitin=string_ex.split()\n",
    "print(splitin)"
   ]
  },
  {
   "cell_type": "code",
   "execution_count": 11,
   "id": "791b0da3",
   "metadata": {},
   "outputs": [
    {
     "name": "stdout",
     "output_type": "stream",
     "text": [
      "['q', 'a', 'm', 'l', 'r', '1', 'h', 'p', 'n', 't', 'o', 'e', 'x', ' ', 'd', 'I', 's', 'g', 'u', 'i', 'w']\n"
     ]
    }
   ],
   "source": [
    "spliti=\"so this is a string experiment where I I will repeat one word and string 1 will print unique elements\"\n",
    "string= set(spliti)\n",
    "string1= list(string)\n",
    "print(string1)"
   ]
  },
  {
   "cell_type": "code",
   "execution_count": 1,
   "id": "125a4d79",
   "metadata": {},
   "outputs": [
    {
     "name": "stdout",
     "output_type": "stream",
     "text": [
      "Addition of 5 and 2 will give :- 7\n",
      "\n",
      "Concatenate string 'x' and 'y' using '+' operaotr :- AsifBhat\n",
      "\n",
      "Subtracting 2 from 5 will give :- 3\n",
      "\n",
      "Multiplying 5 and 2 will give :- 10\n",
      "\n",
      "Dividing 5 by 2 will give :- 2.5\n",
      "\n",
      "Modulo of 5 , 2 will give :- 1\n",
      "\n",
      "5 raised to the power 2 will give :- 25\n",
      "\n",
      "Floor division of 5 by 2 will give :- 2\n",
      "\n"
     ]
    }
   ],
   "source": [
    "a=5\n",
    "b=2\n",
    "x='Asif'\n",
    "y='Bhat'\n",
    "# Addition\n",
    "c=a+b\n",
    "print('Addition of {} and {} will give :- {}\\n'.format(a,b,c))\n",
    "#Concatenate string using plus operator\n",
    "z=x+y\n",
    "print('Concatenate string \\'x\\' and \\'y\\' using \\'+\\' operaotr :- {}\\n'.format(z))\n",
    "# Subtraction\n",
    "c=a-b\n",
    "print('Subtracting {} from {} will give :- {}\\n'.format(b,a,c))\n",
    "# Multiplication\n",
    "c=a*b\n",
    "print('Multiplying {} and {} will give :- {}\\n'.format(a,b,c))\n",
    "# Division\n",
    "c=a/b\n",
    "print('Dividing {} by {} will give :- {}\\n'.format(a,b,c))\n",
    "# Modulo of both number\n",
    "c=a%b\n",
    "print('Modulo of {} , {} will give :- {}\\n'.format(a,b,c))\n",
    "# Power\n",
    "c=a**b\n",
    "print('{} raised to the power {} will give :- {}\\n'.format(a,b,c))\n",
    "# Division(floor)\n",
    "c=a//b\n",
    "print('Floor division of {} by {} will give :- {}\\n'.format(a,b,c))"
   ]
  },
  {
   "cell_type": "code",
   "execution_count": 5,
   "id": "f8e377a4",
   "metadata": {},
   "outputs": [
    {
     "name": "stdout",
     "output_type": "stream",
     "text": [
      "Welcome, Dear Sirs and Madams\n",
      "do you want to add or subtract or multiple or divide your numbers\n",
      "1. Addition \n",
      " 2. Subtraction \n",
      " 3. Multiplication \n",
      " 4. Division \n",
      "Choose one option among them: 2\n",
      "Enter the number : 24\n",
      "Enter the number : 12\n",
      "24 is subtracted by 12 : 12 \n",
      "\n",
      "Thanks for using the program\n"
     ]
    }
   ],
   "source": [
    "print(\"Welcome, Dear Sirs and Madams\")\n",
    "print(\"do you want to add or subtract or multiple or divide your numbers\")\n",
    "print(\"1. Addition \\n 2. Subtraction \\n 3. Multiplication \\n 4. Division \")\n",
    "c=int(input(\"Choose one option among them: \"))\n",
    "if c==1:\n",
    "    a=int(input(\"Enter the number : \"))\n",
    "    b=int(input(\"Enter the number : \"))\n",
    "    result=a+b\n",
    "    print((\"sum of {} and {} is : {} \\n\").format(a,b,result))\n",
    "elif c==2:\n",
    "    a=int(input(\"Enter the number : \"))\n",
    "    b=int(input(\"Enter the number : \"))\n",
    "    subtract=a-b\n",
    "    print((\"{} is subtracted by {} : {} \\n\").format(a,b,subtract))\n",
    "elif c==3:\n",
    "    a=int(input(\"Enter the number: \"))\n",
    "    b=int(input(\"Enter the number: \"))\n",
    "    multiply=a*b\n",
    "    print(\"{} mulitpied by {} : {} \\n\".format(a,b,multiply))\n",
    "elif c==4:\n",
    "    a=int(input(\"Enter the number: \"))\n",
    "    b=int(input(\"Enter the number: \"))\n",
    "    divide=a/b\n",
    "    print((\"{} is divided by {} : {} \\n\").format(a,b,divide))\n",
    "    divide=b/a\n",
    "    print((\"{} is divided by {} : {} \\n\").format(b,a,divide))\n",
    "else:\n",
    "    print(\"choose numbers from 1 to 4 \")\n",
    "print(\"Thanks for using the program\")\n"
   ]
  },
  {
   "cell_type": "code",
   "execution_count": 8,
   "id": "d203634e",
   "metadata": {},
   "outputs": [
    {
     "name": "stdout",
     "output_type": "stream",
     "text": [
      "Logical AND operation :-  False\n",
      "Logical OR operation :-  True\n",
      "NOT operation :-  False\n"
     ]
    }
   ],
   "source": [
    "#logical operators\n",
    "x=True\n",
    "y=False\n",
    "print('Logical AND operation :- ',x and y)\n",
    "# True if both values are true\n",
    "print('Logical OR operation :- ',x or y)\n",
    "# True if either of the values is true\n",
    "print('NOT operation :- ',not x)"
   ]
  },
  {
   "cell_type": "code",
   "execution_count": 9,
   "id": "745ecc7a",
   "metadata": {},
   "outputs": [
    {
     "name": "stdout",
     "output_type": "stream",
     "text": [
      "Bitwise AND operation - 2\n",
      "Bitwise OR operation - 22\n",
      "Bitwise XOR operation - 20\n",
      "Bitwise NOT operation - -19\n",
      "Bitwise right shift operation - 4\n",
      "Bitwise left shift operation - 72\n"
     ]
    }
   ],
   "source": [
    "#bitwise operators\n",
    "x=18\n",
    "# binary form 10010\n",
    "y=6\n",
    "# binary form 00110\n",
    "print('Bitwise AND operation - {}'.format(x&y))\n",
    "print('Bitwise OR operation - {}'.format(x|y))\n",
    "print('Bitwise XOR operation - {}'.format(x^y))\n",
    "print('Bitwise NOT operation - {}'.format(~x))\n",
    "print('Bitwise right shift operation - {}'.format(x>>2))\n",
    "print('Bitwise left shift operation - {}'.format(x<<2))"
   ]
  },
  {
   "cell_type": "code",
   "execution_count": 10,
   "id": "9af22a9e",
   "metadata": {},
   "outputs": [
    {
     "data": {
      "text/plain": [
       "'hello world'"
      ]
     },
     "execution_count": 10,
     "metadata": {},
     "output_type": "execute_result"
    }
   ],
   "source": [
    "(\"hello world\")"
   ]
  },
  {
   "cell_type": "code",
   "execution_count": 11,
   "id": "cce8a6a9",
   "metadata": {
    "scrolled": false
   },
   "outputs": [
    {
     "name": "stdout",
     "output_type": "stream",
     "text": [
      "hello world\n"
     ]
    }
   ],
   "source": [
    "print(\"hello world\")"
   ]
  },
  {
   "cell_type": "code",
   "execution_count": 12,
   "id": "da5c86ff",
   "metadata": {},
   "outputs": [
    {
     "name": "stdout",
     "output_type": "stream",
     "text": [
      "Initialize x with value 10 (x=10)) :-  10\n",
      "Add 20 to x :-  30\n",
      "subtract 20 from x :-  10\n",
      "Divide x by 10 :-  1.0\n",
      "Multiply x by 10 :-  10.0\n",
      "x raised to the power 2 :-  100\n",
      "Modulo Division :-  0\n",
      "Floor Division :-  6\n",
      "Bitwise AND :-  2\n",
      "Bitwise OR :-  2\n",
      "Bitwise XOR :-  0\n",
      "Bitwise left shift operation 40\n",
      "Bitwise right shift operation 10\n"
     ]
    }
   ],
   "source": [
    "#assignment operators\n",
    "x=10\n",
    "print('Initialize x with value 10 (x=10)) :- ',x)\n",
    "x+=20\n",
    "# x = x+20\n",
    "print('Add 20 to x :- ',x)\n",
    "x-=20\n",
    "# x = x-20\n",
    "print('subtract 20 from x :- ',x)\n",
    "x/=10\n",
    "# x = x/10\n",
    "print('Divide x by 10 :- ',x)\n",
    "x*=10\n",
    "# x = x/10\n",
    "print('Multiply x by 10 :- ',x)\n",
    "x=int(x)\n",
    "x**=2\n",
    "# x = x/10\n",
    "print('x raised to the power 2 :- ',x)\n",
    "x%=2\n",
    "print('Modulo Division :- ',x)\n",
    "x=20\n",
    "x//=3\n",
    "print('Floor Division :- ',x)\n",
    "x&=2\n",
    "print('Bitwise AND :- ',x)\n",
    "x|=2\n",
    "print('Bitwise OR :- ',x)\n",
    "x^=2\n",
    "print('Bitwise XOR :- ',x)\n",
    "x=10\n",
    "x<<=2\n",
    "print('Bitwise left shift operation',x)\n",
    "x>>=2\n",
    "print('Bitwise right shift operation',x)"
   ]
  },
  {
   "cell_type": "code",
   "execution_count": 13,
   "id": "fde8b4a2",
   "metadata": {},
   "outputs": [
    {
     "data": {
      "text/plain": [
       "(True, True)"
      ]
     },
     "execution_count": 13,
     "metadata": {},
     "output_type": "execute_result"
    }
   ],
   "source": [
    "#membership operators\n",
    "mystr ='Asif Ali Bhat'\n",
    "'Asif' in mystr,'John' not in mystr"
   ]
  },
  {
   "cell_type": "code",
   "execution_count": 12,
   "id": "0075a0aa",
   "metadata": {},
   "outputs": [
    {
     "name": "stdout",
     "output_type": "stream",
     "text": [
      "i =  0 , j =  2\n",
      "i =  1 , j =  4\n",
      "i =  2 , j =  6\n"
     ]
    }
   ],
   "source": [
    "j = 0\n",
    "for i in range(5): \n",
    "    j = j + 2\n",
    "    print ('i = ', i, ', j = ', j) \n",
    "    if j==6:break"
   ]
  },
  {
   "cell_type": "code",
   "execution_count": null,
   "id": "1a128876",
   "metadata": {},
   "outputs": [],
   "source": []
  }
 ],
 "metadata": {
  "kernelspec": {
   "display_name": "Python 3 (ipykernel)",
   "language": "python",
   "name": "python3"
  },
  "language_info": {
   "codemirror_mode": {
    "name": "ipython",
    "version": 3
   },
   "file_extension": ".py",
   "mimetype": "text/x-python",
   "name": "python",
   "nbconvert_exporter": "python",
   "pygments_lexer": "ipython3",
   "version": "3.11.5"
  }
 },
 "nbformat": 4,
 "nbformat_minor": 5
}
